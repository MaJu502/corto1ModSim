{
 "cells": [
  {
   "cell_type": "markdown",
   "metadata": {},
   "source": [
    "# Corto 1 - Modelacion y Simulacion\n",
    "Marco Jurado 20308 <br>\n",
    "Cristian Aguirre 20231"
   ]
  },
  {
   "cell_type": "markdown",
   "metadata": {},
   "source": [
    "## Parte 1 \n",
    "### Tasks 1\n",
    "Suponga que usted está trabajando en la industria relacionada con meteorología, por lo cual le interesa saber la\n",
    "probabilidad de que haya N huracanes este año. Se sabe que la frecuencia histórica de huracanes es 7 por año, en\n",
    "otras palabras, el número promedio de huracanes por año es de 7.\n",
    "1. ¿Es este un escenario que se pueda modelar como una variable aleatoria de Poisson? ¿Por qué?\n",
    "2. Considere que usted analizará hasta un máximo de 16 huracanes este año. Grafique PMF (probability mass function) de estos eventos\n",
    "3. Considere que usted analizará hasta un máximo de 16 huracanes este año. Grafique CDF (cumulative distribution function) de estos eventos\n",
    "4. ¿Qué conclusiones puede sacar al observar las gráficas de los ejercicios anteriores?"
   ]
  },
  {
   "cell_type": "code",
   "execution_count": null,
   "metadata": {},
   "outputs": [],
   "source": []
  },
  {
   "cell_type": "markdown",
   "metadata": {},
   "source": [
    "### Tasks 2\n",
    "Usted es un analista de simulación encargado de modelar la llegada de clientes a una tienda minorista. Desea\n",
    "simular la cantidad de clientes que llegan por hora utilizando dos métodos diferentes: el método de transformación\n",
    "inversa y el método de rechazo.\n",
    "#### Task 2.1\n",
    "Defina la distribución de probabilidad objetivo para las llegadas de clientes en función de los datos históricos.\n",
    "Supongamos que ha recopilado datos y descubrió que la cantidad de clientes que llegan por hora sigue una\n",
    "distribución de Poisson con un promedio de 10 clientes por hora (λ = 10).\n",
    "1. Implemente el método de transformación inversa para generar muestras aleatorias a partir de la distribución de Poisson.\n",
    "2. Genere una muestra aleatoria de tamaño 1000 que represente el número de clientes que llegan en una hora.\n",
    "3. Trace un histograma de la muestra generada y compárelo con el PMF teórico de la distribución de Poisson.\n",
    "4. Calcule la media y la varianza de la muestra generada y compárelas con los valores teóricos"
   ]
  },
  {
   "cell_type": "code",
   "execution_count": null,
   "metadata": {},
   "outputs": [],
   "source": []
  },
  {
   "cell_type": "markdown",
   "metadata": {},
   "source": [
    "#### Task 2.2\n",
    "Defina una distribución de propuesta que sea más fácil de muestrear y que cubra el soporte de la distribución de\n",
    "Poisson de destino. Por ejemplo, puede elegir una distribución uniforme o geométrica.\n",
    "1. Calcule la constante C para acotar la relación entre el PMF objetivo y el PMF propuesto en todo el soporte de la distribución de Poisson.\n",
    "2. Implemente el método de rechazo para generar muestras aleatorias a partir de la distribución de Poisson.\n",
    "3. Genere una muestra aleatoria de tamaño 1000 que represente el número de clientes que llegan en una hora utilizando el método de rechazo.\n",
    "4. Trace un histograma de la muestra generada y compárelo con el PMF teórico de la distribución de Poisson.\n",
    "5. Calcule la media y la varianza de la muestra generada y compárelas con los valores teóricos"
   ]
  },
  {
   "cell_type": "code",
   "execution_count": null,
   "metadata": {},
   "outputs": [],
   "source": []
  },
  {
   "cell_type": "markdown",
   "metadata": {},
   "source": [
    "## Preguntas\n",
    "1. Compare los resultados de los dos métodos. ¿Qué método proporciona un mejor ajuste a la distribución de Poisson objetivo?\n",
    "2. Discuta las ventajas y desventajas de cada método en términos de eficiencia y precisión.\n",
    "3. Considere diferentes escenarios, como cambiar la tasa de llegada promedio (λ) o usar diferentes distribuciones de propuestas. ¿Cómo funcionan los métodos en estos escenarios?\n"
   ]
  }
 ],
 "metadata": {
  "language_info": {
   "name": "python"
  },
  "orig_nbformat": 4
 },
 "nbformat": 4,
 "nbformat_minor": 2
}
